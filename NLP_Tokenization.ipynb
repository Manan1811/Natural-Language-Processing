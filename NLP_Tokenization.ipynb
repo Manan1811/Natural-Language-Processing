{
  "nbformat": 4,
  "nbformat_minor": 0,
  "metadata": {
    "colab": {
      "name": "NLP Tokenization.ipynb",
      "provenance": [],
      "collapsed_sections": [],
      "authorship_tag": "ABX9TyOYm29C5mqCKR8YMGUahinZ",
      "include_colab_link": true
    },
    "kernelspec": {
      "name": "python3",
      "display_name": "Python 3"
    }
  },
  "cells": [
    {
      "cell_type": "markdown",
      "metadata": {
        "id": "view-in-github",
        "colab_type": "text"
      },
      "source": [
        "<a href=\"https://colab.research.google.com/github/Manan1811/Natural-Language-Processing/blob/master/NLP_Tokenization.ipynb\" target=\"_parent\"><img src=\"https://colab.research.google.com/assets/colab-badge.svg\" alt=\"Open In Colab\"/></a>"
      ]
    },
    {
      "cell_type": "code",
      "metadata": {
        "id": "zT6LjeSKbtAW",
        "colab_type": "code",
        "colab": {
          "base_uri": "https://localhost:8080/",
          "height": 118
        },
        "outputId": "4785090d-a613-4930-ff54-981778fc1d2b"
      },
      "source": [
        "import nltk\n",
        "nltk.download('punkt')\n",
        "nltk.download('stopwords')\n",
        "nltk.download('wordnet')\n",
        "from nltk.stem import WordNetLemmatizer\n",
        "from nltk.corpus import stopwords"
      ],
      "execution_count": null,
      "outputs": [
        {
          "output_type": "stream",
          "text": [
            "[nltk_data] Downloading package punkt to /root/nltk_data...\n",
            "[nltk_data]   Unzipping tokenizers/punkt.zip.\n",
            "[nltk_data] Downloading package stopwords to /root/nltk_data...\n",
            "[nltk_data]   Unzipping corpora/stopwords.zip.\n",
            "[nltk_data] Downloading package wordnet to /root/nltk_data...\n",
            "[nltk_data]   Unzipping corpora/wordnet.zip.\n"
          ],
          "name": "stdout"
        }
      ]
    },
    {
      "cell_type": "code",
      "metadata": {
        "id": "fIrCqu6kcN72",
        "colab_type": "code",
        "colab": {
          "base_uri": "https://localhost:8080/",
          "height": 1000
        },
        "outputId": "289e6ef3-8680-4817-e7d2-355574c6359e"
      },
      "source": [
        "para= \"\"\"I have three visions for India. In 3000 years of our history, people from all over \n",
        "               the world have come and invaded us, captured our lands, conquered our minds. \n",
        "               From Alexander onwards, the Greeks, the Turks, the Moguls, the Portuguese, the British,\n",
        "               the French, the Dutch, all of them came and looted us, took over what was ours. \n",
        "               Yet we have not done this to any other nation. We have not conquered anyone. \n",
        "               We have not grabbed their land, their culture, \n",
        "               their history and tried to enforce our way of life on them. \n",
        "               Why? Because we respect the freedom of others.That is why my \n",
        "               first vision is that of freedom. I believe that India got its first vision of \n",
        "               this in 1857, when we started the War of Independence. It is this freedom that\n",
        "               we must protect and nurture and build on. If we are not free, no one will respect us.\n",
        "               My second vision for India’s development. For fifty years we have been a developing nation.\n",
        "               It is time we see ourselves as a developed nation. We are among the top 5 nations of the world\n",
        "               in terms of GDP. We have a 10 percent growth rate in most areas. Our poverty levels are falling.\n",
        "               Our achievements are being globally recognised today. Yet we lack the self-confidence to\n",
        "               see ourselves as a developed nation, self-reliant and self-assured. Isn’t this incorrect?\n",
        "               I have a third vision. India must stand up to the world. Because I believe that unless India \n",
        "               stands up to the world, no one will respect us. Only strength respects strength. We must be \n",
        "               strong not only as a military power but also as an economic power. Both must go hand-in-hand. \n",
        "               My good fortune was to have worked with three great minds. Dr. Vikram Sarabhai of the Dept. of \n",
        "               space, Professor Satish Dhawan, who succeeded him and Dr. Brahm Prakash, father of nuclear material.\n",
        "               I was lucky to have worked with all three of them closely and consider this the great opportunity of my life. \n",
        "               I see four milestones in my career\"\"\"\n",
        "tokens = nltk.word_tokenize(para)\n",
        "tokens"
      ],
      "execution_count": null,
      "outputs": [
        {
          "output_type": "execute_result",
          "data": {
            "text/plain": [
              "['I',\n",
              " 'have',\n",
              " 'three',\n",
              " 'visions',\n",
              " 'for',\n",
              " 'India',\n",
              " '.',\n",
              " 'In',\n",
              " '3000',\n",
              " 'years',\n",
              " 'of',\n",
              " 'our',\n",
              " 'history',\n",
              " ',',\n",
              " 'people',\n",
              " 'from',\n",
              " 'all',\n",
              " 'over',\n",
              " 'the',\n",
              " 'world',\n",
              " 'have',\n",
              " 'come',\n",
              " 'and',\n",
              " 'invaded',\n",
              " 'us',\n",
              " ',',\n",
              " 'captured',\n",
              " 'our',\n",
              " 'lands',\n",
              " ',',\n",
              " 'conquered',\n",
              " 'our',\n",
              " 'minds',\n",
              " '.',\n",
              " 'From',\n",
              " 'Alexander',\n",
              " 'onwards',\n",
              " ',',\n",
              " 'the',\n",
              " 'Greeks',\n",
              " ',',\n",
              " 'the',\n",
              " 'Turks',\n",
              " ',',\n",
              " 'the',\n",
              " 'Moguls',\n",
              " ',',\n",
              " 'the',\n",
              " 'Portuguese',\n",
              " ',',\n",
              " 'the',\n",
              " 'British',\n",
              " ',',\n",
              " 'the',\n",
              " 'French',\n",
              " ',',\n",
              " 'the',\n",
              " 'Dutch',\n",
              " ',',\n",
              " 'all',\n",
              " 'of',\n",
              " 'them',\n",
              " 'came',\n",
              " 'and',\n",
              " 'looted',\n",
              " 'us',\n",
              " ',',\n",
              " 'took',\n",
              " 'over',\n",
              " 'what',\n",
              " 'was',\n",
              " 'ours',\n",
              " '.',\n",
              " 'Yet',\n",
              " 'we',\n",
              " 'have',\n",
              " 'not',\n",
              " 'done',\n",
              " 'this',\n",
              " 'to',\n",
              " 'any',\n",
              " 'other',\n",
              " 'nation',\n",
              " '.',\n",
              " 'We',\n",
              " 'have',\n",
              " 'not',\n",
              " 'conquered',\n",
              " 'anyone',\n",
              " '.',\n",
              " 'We',\n",
              " 'have',\n",
              " 'not',\n",
              " 'grabbed',\n",
              " 'their',\n",
              " 'land',\n",
              " ',',\n",
              " 'their',\n",
              " 'culture',\n",
              " ',',\n",
              " 'their',\n",
              " 'history',\n",
              " 'and',\n",
              " 'tried',\n",
              " 'to',\n",
              " 'enforce',\n",
              " 'our',\n",
              " 'way',\n",
              " 'of',\n",
              " 'life',\n",
              " 'on',\n",
              " 'them',\n",
              " '.',\n",
              " 'Why',\n",
              " '?',\n",
              " 'Because',\n",
              " 'we',\n",
              " 'respect',\n",
              " 'the',\n",
              " 'freedom',\n",
              " 'of',\n",
              " 'others.That',\n",
              " 'is',\n",
              " 'why',\n",
              " 'my',\n",
              " 'first',\n",
              " 'vision',\n",
              " 'is',\n",
              " 'that',\n",
              " 'of',\n",
              " 'freedom',\n",
              " '.',\n",
              " 'I',\n",
              " 'believe',\n",
              " 'that',\n",
              " 'India',\n",
              " 'got',\n",
              " 'its',\n",
              " 'first',\n",
              " 'vision',\n",
              " 'of',\n",
              " 'this',\n",
              " 'in',\n",
              " '1857',\n",
              " ',',\n",
              " 'when',\n",
              " 'we',\n",
              " 'started',\n",
              " 'the',\n",
              " 'War',\n",
              " 'of',\n",
              " 'Independence',\n",
              " '.',\n",
              " 'It',\n",
              " 'is',\n",
              " 'this',\n",
              " 'freedom',\n",
              " 'that',\n",
              " 'we',\n",
              " 'must',\n",
              " 'protect',\n",
              " 'and',\n",
              " 'nurture',\n",
              " 'and',\n",
              " 'build',\n",
              " 'on',\n",
              " '.',\n",
              " 'If',\n",
              " 'we',\n",
              " 'are',\n",
              " 'not',\n",
              " 'free',\n",
              " ',',\n",
              " 'no',\n",
              " 'one',\n",
              " 'will',\n",
              " 'respect',\n",
              " 'us',\n",
              " '.',\n",
              " 'My',\n",
              " 'second',\n",
              " 'vision',\n",
              " 'for',\n",
              " 'India',\n",
              " '’',\n",
              " 's',\n",
              " 'development',\n",
              " '.',\n",
              " 'For',\n",
              " 'fifty',\n",
              " 'years',\n",
              " 'we',\n",
              " 'have',\n",
              " 'been',\n",
              " 'a',\n",
              " 'developing',\n",
              " 'nation',\n",
              " '.',\n",
              " 'It',\n",
              " 'is',\n",
              " 'time',\n",
              " 'we',\n",
              " 'see',\n",
              " 'ourselves',\n",
              " 'as',\n",
              " 'a',\n",
              " 'developed',\n",
              " 'nation',\n",
              " '.',\n",
              " 'We',\n",
              " 'are',\n",
              " 'among',\n",
              " 'the',\n",
              " 'top',\n",
              " '5',\n",
              " 'nations',\n",
              " 'of',\n",
              " 'the',\n",
              " 'world',\n",
              " 'in',\n",
              " 'terms',\n",
              " 'of',\n",
              " 'GDP',\n",
              " '.',\n",
              " 'We',\n",
              " 'have',\n",
              " 'a',\n",
              " '10',\n",
              " 'percent',\n",
              " 'growth',\n",
              " 'rate',\n",
              " 'in',\n",
              " 'most',\n",
              " 'areas',\n",
              " '.',\n",
              " 'Our',\n",
              " 'poverty',\n",
              " 'levels',\n",
              " 'are',\n",
              " 'falling',\n",
              " '.',\n",
              " 'Our',\n",
              " 'achievements',\n",
              " 'are',\n",
              " 'being',\n",
              " 'globally',\n",
              " 'recognised',\n",
              " 'today',\n",
              " '.',\n",
              " 'Yet',\n",
              " 'we',\n",
              " 'lack',\n",
              " 'the',\n",
              " 'self-confidence',\n",
              " 'to',\n",
              " 'see',\n",
              " 'ourselves',\n",
              " 'as',\n",
              " 'a',\n",
              " 'developed',\n",
              " 'nation',\n",
              " ',',\n",
              " 'self-reliant',\n",
              " 'and',\n",
              " 'self-assured',\n",
              " '.',\n",
              " 'Isn',\n",
              " '’',\n",
              " 't',\n",
              " 'this',\n",
              " 'incorrect',\n",
              " '?',\n",
              " 'I',\n",
              " 'have',\n",
              " 'a',\n",
              " 'third',\n",
              " 'vision',\n",
              " '.',\n",
              " 'India',\n",
              " 'must',\n",
              " 'stand',\n",
              " 'up',\n",
              " 'to',\n",
              " 'the',\n",
              " 'world',\n",
              " '.',\n",
              " 'Because',\n",
              " 'I',\n",
              " 'believe',\n",
              " 'that',\n",
              " 'unless',\n",
              " 'India',\n",
              " 'stands',\n",
              " 'up',\n",
              " 'to',\n",
              " 'the',\n",
              " 'world',\n",
              " ',',\n",
              " 'no',\n",
              " 'one',\n",
              " 'will',\n",
              " 'respect',\n",
              " 'us',\n",
              " '.',\n",
              " 'Only',\n",
              " 'strength',\n",
              " 'respects',\n",
              " 'strength',\n",
              " '.',\n",
              " 'We',\n",
              " 'must',\n",
              " 'be',\n",
              " 'strong',\n",
              " 'not',\n",
              " 'only',\n",
              " 'as',\n",
              " 'a',\n",
              " 'military',\n",
              " 'power',\n",
              " 'but',\n",
              " 'also',\n",
              " 'as',\n",
              " 'an',\n",
              " 'economic',\n",
              " 'power',\n",
              " '.',\n",
              " 'Both',\n",
              " 'must',\n",
              " 'go',\n",
              " 'hand-in-hand',\n",
              " '.',\n",
              " 'My',\n",
              " 'good',\n",
              " 'fortune',\n",
              " 'was',\n",
              " 'to',\n",
              " 'have',\n",
              " 'worked',\n",
              " 'with',\n",
              " 'three',\n",
              " 'great',\n",
              " 'minds',\n",
              " '.',\n",
              " 'Dr.',\n",
              " 'Vikram',\n",
              " 'Sarabhai',\n",
              " 'of',\n",
              " 'the',\n",
              " 'Dept',\n",
              " '.',\n",
              " 'of',\n",
              " 'space',\n",
              " ',',\n",
              " 'Professor',\n",
              " 'Satish',\n",
              " 'Dhawan',\n",
              " ',',\n",
              " 'who',\n",
              " 'succeeded',\n",
              " 'him',\n",
              " 'and',\n",
              " 'Dr.',\n",
              " 'Brahm',\n",
              " 'Prakash',\n",
              " ',',\n",
              " 'father',\n",
              " 'of',\n",
              " 'nuclear',\n",
              " 'material',\n",
              " '.',\n",
              " 'I',\n",
              " 'was',\n",
              " 'lucky',\n",
              " 'to',\n",
              " 'have',\n",
              " 'worked',\n",
              " 'with',\n",
              " 'all',\n",
              " 'three',\n",
              " 'of',\n",
              " 'them',\n",
              " 'closely',\n",
              " 'and',\n",
              " 'consider',\n",
              " 'this',\n",
              " 'the',\n",
              " 'great',\n",
              " 'opportunity',\n",
              " 'of',\n",
              " 'my',\n",
              " 'life',\n",
              " '.',\n",
              " 'I',\n",
              " 'see',\n",
              " 'four',\n",
              " 'milestones',\n",
              " 'in',\n",
              " 'my',\n",
              " 'career']"
            ]
          },
          "metadata": {
            "tags": []
          },
          "execution_count": 14
        }
      ]
    },
    {
      "cell_type": "code",
      "metadata": {
        "id": "QjJGWVADcRlh",
        "colab_type": "code",
        "colab": {
          "base_uri": "https://localhost:8080/",
          "height": 34
        },
        "outputId": "c0c9d620-867a-47d6-a08c-c5cf73ab725c"
      },
      "source": [
        "len(tokens)"
      ],
      "execution_count": null,
      "outputs": [
        {
          "output_type": "execute_result",
          "data": {
            "text/plain": [
              "399"
            ]
          },
          "metadata": {
            "tags": []
          },
          "execution_count": 15
        }
      ]
    },
    {
      "cell_type": "markdown",
      "metadata": {
        "id": "IY2ix-Ea7pDn",
        "colab_type": "text"
      },
      "source": [
        "## FreqDist- Frequency of each word"
      ]
    },
    {
      "cell_type": "code",
      "metadata": {
        "id": "J62P-Cu3cT4O",
        "colab_type": "code",
        "colab": {}
      },
      "source": [
        "from nltk.probability import FreqDist\n",
        "fdist= FreqDist()"
      ],
      "execution_count": null,
      "outputs": []
    },
    {
      "cell_type": "code",
      "metadata": {
        "id": "w0RsCz4ZcZmU",
        "colab_type": "code",
        "colab": {
          "base_uri": "https://localhost:8080/",
          "height": 1000
        },
        "outputId": "864115ed-23df-4461-a45f-b11cafc655a6"
      },
      "source": [
        "for word in tokens:\n",
        "  fdist[word.lower()]+=1\n",
        "\n",
        "fdist\n"
      ],
      "execution_count": null,
      "outputs": [
        {
          "output_type": "execute_result",
          "data": {
            "text/plain": [
              "FreqDist({',': 21,\n",
              "          '.': 28,\n",
              "          '10': 1,\n",
              "          '1857': 1,\n",
              "          '3000': 1,\n",
              "          '5': 1,\n",
              "          '?': 2,\n",
              "          'a': 6,\n",
              "          'achievements': 1,\n",
              "          'alexander': 1,\n",
              "          'all': 3,\n",
              "          'also': 1,\n",
              "          'among': 1,\n",
              "          'an': 1,\n",
              "          'and': 8,\n",
              "          'any': 1,\n",
              "          'anyone': 1,\n",
              "          'are': 4,\n",
              "          'areas': 1,\n",
              "          'as': 4,\n",
              "          'be': 1,\n",
              "          'because': 2,\n",
              "          'been': 1,\n",
              "          'being': 1,\n",
              "          'believe': 2,\n",
              "          'both': 1,\n",
              "          'brahm': 1,\n",
              "          'british': 1,\n",
              "          'build': 1,\n",
              "          'but': 1,\n",
              "          'came': 1,\n",
              "          'captured': 1,\n",
              "          'career': 1,\n",
              "          'closely': 1,\n",
              "          'come': 1,\n",
              "          'conquered': 2,\n",
              "          'consider': 1,\n",
              "          'culture': 1,\n",
              "          'dept': 1,\n",
              "          'developed': 2,\n",
              "          'developing': 1,\n",
              "          'development': 1,\n",
              "          'dhawan': 1,\n",
              "          'done': 1,\n",
              "          'dr.': 2,\n",
              "          'dutch': 1,\n",
              "          'economic': 1,\n",
              "          'enforce': 1,\n",
              "          'falling': 1,\n",
              "          'father': 1,\n",
              "          'fifty': 1,\n",
              "          'first': 2,\n",
              "          'for': 3,\n",
              "          'fortune': 1,\n",
              "          'four': 1,\n",
              "          'free': 1,\n",
              "          'freedom': 3,\n",
              "          'french': 1,\n",
              "          'from': 2,\n",
              "          'gdp': 1,\n",
              "          'globally': 1,\n",
              "          'go': 1,\n",
              "          'good': 1,\n",
              "          'got': 1,\n",
              "          'grabbed': 1,\n",
              "          'great': 2,\n",
              "          'greeks': 1,\n",
              "          'growth': 1,\n",
              "          'hand-in-hand': 1,\n",
              "          'have': 10,\n",
              "          'him': 1,\n",
              "          'history': 2,\n",
              "          'i': 6,\n",
              "          'if': 1,\n",
              "          'in': 5,\n",
              "          'incorrect': 1,\n",
              "          'independence': 1,\n",
              "          'india': 5,\n",
              "          'invaded': 1,\n",
              "          'is': 4,\n",
              "          'isn': 1,\n",
              "          'it': 2,\n",
              "          'its': 1,\n",
              "          'lack': 1,\n",
              "          'land': 1,\n",
              "          'lands': 1,\n",
              "          'levels': 1,\n",
              "          'life': 2,\n",
              "          'looted': 1,\n",
              "          'lucky': 1,\n",
              "          'material': 1,\n",
              "          'milestones': 1,\n",
              "          'military': 1,\n",
              "          'minds': 2,\n",
              "          'moguls': 1,\n",
              "          'most': 1,\n",
              "          'must': 4,\n",
              "          'my': 5,\n",
              "          'nation': 4,\n",
              "          'nations': 1,\n",
              "          'no': 2,\n",
              "          'not': 5,\n",
              "          'nuclear': 1,\n",
              "          'nurture': 1,\n",
              "          'of': 14,\n",
              "          'on': 2,\n",
              "          'one': 2,\n",
              "          'only': 2,\n",
              "          'onwards': 1,\n",
              "          'opportunity': 1,\n",
              "          'other': 1,\n",
              "          'others.that': 1,\n",
              "          'our': 6,\n",
              "          'ours': 1,\n",
              "          'ourselves': 2,\n",
              "          'over': 2,\n",
              "          'people': 1,\n",
              "          'percent': 1,\n",
              "          'portuguese': 1,\n",
              "          'poverty': 1,\n",
              "          'power': 2,\n",
              "          'prakash': 1,\n",
              "          'professor': 1,\n",
              "          'protect': 1,\n",
              "          'rate': 1,\n",
              "          'recognised': 1,\n",
              "          'respect': 3,\n",
              "          'respects': 1,\n",
              "          's': 1,\n",
              "          'sarabhai': 1,\n",
              "          'satish': 1,\n",
              "          'second': 1,\n",
              "          'see': 3,\n",
              "          'self-assured': 1,\n",
              "          'self-confidence': 1,\n",
              "          'self-reliant': 1,\n",
              "          'space': 1,\n",
              "          'stand': 1,\n",
              "          'stands': 1,\n",
              "          'started': 1,\n",
              "          'strength': 2,\n",
              "          'strong': 1,\n",
              "          'succeeded': 1,\n",
              "          't': 1,\n",
              "          'terms': 1,\n",
              "          'that': 4,\n",
              "          'the': 17,\n",
              "          'their': 3,\n",
              "          'them': 3,\n",
              "          'third': 1,\n",
              "          'this': 5,\n",
              "          'three': 3,\n",
              "          'time': 1,\n",
              "          'to': 7,\n",
              "          'today': 1,\n",
              "          'took': 1,\n",
              "          'top': 1,\n",
              "          'tried': 1,\n",
              "          'turks': 1,\n",
              "          'unless': 1,\n",
              "          'up': 2,\n",
              "          'us': 4,\n",
              "          'vikram': 1,\n",
              "          'vision': 4,\n",
              "          'visions': 1,\n",
              "          'war': 1,\n",
              "          'was': 3,\n",
              "          'way': 1,\n",
              "          'we': 13,\n",
              "          'what': 1,\n",
              "          'when': 1,\n",
              "          'who': 1,\n",
              "          'why': 2,\n",
              "          'will': 2,\n",
              "          'with': 2,\n",
              "          'worked': 2,\n",
              "          'world': 4,\n",
              "          'years': 2,\n",
              "          'yet': 2,\n",
              "          '’': 2})"
            ]
          },
          "metadata": {
            "tags": []
          },
          "execution_count": 17
        }
      ]
    },
    {
      "cell_type": "code",
      "metadata": {
        "id": "-p5Xys_lchd7",
        "colab_type": "code",
        "colab": {
          "base_uri": "https://localhost:8080/",
          "height": 34
        },
        "outputId": "5de0fc8c-678b-4ece-eeba-437b78c45494"
      },
      "source": [
        "fdist_top5= fdist.most_common(5)\n",
        "fdist_top5"
      ],
      "execution_count": null,
      "outputs": [
        {
          "output_type": "execute_result",
          "data": {
            "text/plain": [
              "[('.', 28), (',', 21), ('the', 17), ('of', 14), ('we', 13)]"
            ]
          },
          "metadata": {
            "tags": []
          },
          "execution_count": 18
        }
      ]
    },
    {
      "cell_type": "code",
      "metadata": {
        "id": "tpUF2K1HddDh",
        "colab_type": "code",
        "colab": {
          "base_uri": "https://localhost:8080/",
          "height": 34
        },
        "outputId": "f3638dab-197b-4ee7-82db-c87d09d1578d"
      },
      "source": [
        "from nltk.tokenize import blankline_tokenize\n",
        "token_blank=blankline_tokenize(para)\n",
        "len(token_blank)\n",
        "#gives the no. of paragraphs we have"
      ],
      "execution_count": null,
      "outputs": [
        {
          "output_type": "execute_result",
          "data": {
            "text/plain": [
              "1"
            ]
          },
          "metadata": {
            "tags": []
          },
          "execution_count": 19
        }
      ]
    },
    {
      "cell_type": "markdown",
      "metadata": {
        "id": "r1eK-SNu76cu",
        "colab_type": "text"
      },
      "source": [
        "## Bigrams, Trigrams, Ngrams"
      ]
    },
    {
      "cell_type": "code",
      "metadata": {
        "id": "ptq1wrWtd3ES",
        "colab_type": "code",
        "colab": {}
      },
      "source": [
        "from nltk.util import bigrams, trigrams, ngrams\n"
      ],
      "execution_count": null,
      "outputs": []
    },
    {
      "cell_type": "code",
      "metadata": {
        "id": "XBY_oOyLeo5K",
        "colab_type": "code",
        "colab": {
          "base_uri": "https://localhost:8080/",
          "height": 34
        },
        "outputId": "454b1714-c857-4f42-9ee2-419e9b3acfd8"
      },
      "source": [
        "string =\"\"\"I am Manan Agrawal. I am sophomore at DCE.\"\"\"\n",
        "words= nltk.word_tokenize(string)\n",
        "len(words)"
      ],
      "execution_count": null,
      "outputs": [
        {
          "output_type": "execute_result",
          "data": {
            "text/plain": [
              "11"
            ]
          },
          "metadata": {
            "tags": []
          },
          "execution_count": 22
        }
      ]
    },
    {
      "cell_type": "code",
      "metadata": {
        "id": "16xO5caSe1MA",
        "colab_type": "code",
        "colab": {
          "base_uri": "https://localhost:8080/",
          "height": 34
        },
        "outputId": "68e18a09-d5c0-4071-98c8-b651ae0824da"
      },
      "source": [
        "words"
      ],
      "execution_count": null,
      "outputs": [
        {
          "output_type": "execute_result",
          "data": {
            "text/plain": [
              "['I', 'am', 'Manan', 'Agrawal', '.', 'I', 'am', 'sophomore', 'at', 'DCE', '.']"
            ]
          },
          "metadata": {
            "tags": []
          },
          "execution_count": 23
        }
      ]
    },
    {
      "cell_type": "code",
      "metadata": {
        "id": "TTvsdPv7e5Lx",
        "colab_type": "code",
        "colab": {
          "base_uri": "https://localhost:8080/",
          "height": 185
        },
        "outputId": "5abbd7cf-fb67-4e01-fc50-55e9b6436532"
      },
      "source": [
        "words_bigrams= list(nltk.bigrams(words))\n",
        "words_bigrams"
      ],
      "execution_count": null,
      "outputs": [
        {
          "output_type": "execute_result",
          "data": {
            "text/plain": [
              "[('I', 'am'),\n",
              " ('am', 'Manan'),\n",
              " ('Manan', 'Agrawal'),\n",
              " ('Agrawal', '.'),\n",
              " ('.', 'I'),\n",
              " ('I', 'am'),\n",
              " ('am', 'sophomore'),\n",
              " ('sophomore', 'at'),\n",
              " ('at', 'DCE'),\n",
              " ('DCE', '.')]"
            ]
          },
          "metadata": {
            "tags": []
          },
          "execution_count": 24
        }
      ]
    },
    {
      "cell_type": "code",
      "metadata": {
        "id": "3UazPqtkfGE2",
        "colab_type": "code",
        "colab": {
          "base_uri": "https://localhost:8080/",
          "height": 168
        },
        "outputId": "d511d3d9-d5cd-4142-8347-8401d1cfbef5"
      },
      "source": [
        "words_trigrams= list(nltk.trigrams(words))\n",
        "words_trigrams"
      ],
      "execution_count": null,
      "outputs": [
        {
          "output_type": "execute_result",
          "data": {
            "text/plain": [
              "[('I', 'am', 'Manan'),\n",
              " ('am', 'Manan', 'Agrawal'),\n",
              " ('Manan', 'Agrawal', '.'),\n",
              " ('Agrawal', '.', 'I'),\n",
              " ('.', 'I', 'am'),\n",
              " ('I', 'am', 'sophomore'),\n",
              " ('am', 'sophomore', 'at'),\n",
              " ('sophomore', 'at', 'DCE'),\n",
              " ('at', 'DCE', '.')]"
            ]
          },
          "metadata": {
            "tags": []
          },
          "execution_count": 25
        }
      ]
    },
    {
      "cell_type": "code",
      "metadata": {
        "id": "kkmOW7T6fwlQ",
        "colab_type": "code",
        "colab": {
          "base_uri": "https://localhost:8080/",
          "height": 151
        },
        "outputId": "13f2be77-7929-4f66-a4fa-38db9467301f"
      },
      "source": [
        "words_ngrams= list(nltk.ngrams(words,4))\n",
        "words_ngrams"
      ],
      "execution_count": null,
      "outputs": [
        {
          "output_type": "execute_result",
          "data": {
            "text/plain": [
              "[('I', 'am', 'Manan', 'Agrawal'),\n",
              " ('am', 'Manan', 'Agrawal', '.'),\n",
              " ('Manan', 'Agrawal', '.', 'I'),\n",
              " ('Agrawal', '.', 'I', 'am'),\n",
              " ('.', 'I', 'am', 'sophomore'),\n",
              " ('I', 'am', 'sophomore', 'at'),\n",
              " ('am', 'sophomore', 'at', 'DCE'),\n",
              " ('sophomore', 'at', 'DCE', '.')]"
            ]
          },
          "metadata": {
            "tags": []
          },
          "execution_count": 26
        }
      ]
    },
    {
      "cell_type": "markdown",
      "metadata": {
        "id": "Xivu7er98DvY",
        "colab_type": "text"
      },
      "source": [
        "## Parts of Speech(PoS): Tags and Description"
      ]
    },
    {
      "cell_type": "code",
      "metadata": {
        "id": "3Dsd110if6oM",
        "colab_type": "code",
        "colab": {
          "base_uri": "https://localhost:8080/",
          "height": 202
        },
        "outputId": "907a0f6d-bfba-46f9-a8dd-336e69f7aee4"
      },
      "source": [
        "line1=\"Manan is a natural when it comes to playing football.\"\n",
        "line1_words= nltk.word_tokenize(line1)\n",
        "line1_words"
      ],
      "execution_count": null,
      "outputs": [
        {
          "output_type": "execute_result",
          "data": {
            "text/plain": [
              "['Manan',\n",
              " 'is',\n",
              " 'a',\n",
              " 'natural',\n",
              " 'when',\n",
              " 'it',\n",
              " 'comes',\n",
              " 'to',\n",
              " 'playing',\n",
              " 'football',\n",
              " '.']"
            ]
          },
          "metadata": {
            "tags": []
          },
          "execution_count": 27
        }
      ]
    },
    {
      "cell_type": "code",
      "metadata": {
        "id": "_ViwYnwm4hkY",
        "colab_type": "code",
        "colab": {
          "base_uri": "https://localhost:8080/",
          "height": 84
        },
        "outputId": "f752b03e-1004-47e6-b0b8-56156e40c836"
      },
      "source": [
        "nltk.download('averaged_perceptron_tagger')"
      ],
      "execution_count": null,
      "outputs": [
        {
          "output_type": "stream",
          "text": [
            "[nltk_data] Downloading package averaged_perceptron_tagger to\n",
            "[nltk_data]     /root/nltk_data...\n",
            "[nltk_data]   Unzipping taggers/averaged_perceptron_tagger.zip.\n"
          ],
          "name": "stdout"
        },
        {
          "output_type": "execute_result",
          "data": {
            "text/plain": [
              "True"
            ]
          },
          "metadata": {
            "tags": []
          },
          "execution_count": 30
        }
      ]
    },
    {
      "cell_type": "code",
      "metadata": {
        "id": "rHp2gG9_4Uo3",
        "colab_type": "code",
        "colab": {
          "base_uri": "https://localhost:8080/",
          "height": 202
        },
        "outputId": "5d99f3b4-d244-4190-d377-b242dae3e160"
      },
      "source": [
        "for word in line1_words:\n",
        "  print(nltk.pos_tag([word]))"
      ],
      "execution_count": null,
      "outputs": [
        {
          "output_type": "stream",
          "text": [
            "[('Manan', 'NN')]\n",
            "[('is', 'VBZ')]\n",
            "[('a', 'DT')]\n",
            "[('natural', 'JJ')]\n",
            "[('when', 'WRB')]\n",
            "[('it', 'PRP')]\n",
            "[('comes', 'VBZ')]\n",
            "[('to', 'TO')]\n",
            "[('playing', 'VBG')]\n",
            "[('football', 'NN')]\n",
            "[('.', '.')]\n"
          ],
          "name": "stdout"
        }
      ]
    },
    {
      "cell_type": "markdown",
      "metadata": {
        "id": "3LNJpAV08Nk8",
        "colab_type": "text"
      },
      "source": [
        "## Named Entity Recognition"
      ]
    },
    {
      "cell_type": "code",
      "metadata": {
        "id": "ynWEB4hd4a9F",
        "colab_type": "code",
        "colab": {
          "base_uri": "https://localhost:8080/",
          "height": 118
        },
        "outputId": "cfc4f37c-3cd9-4720-bae9-896f8f24b624"
      },
      "source": [
        "from nltk import ne_chunk\n",
        "nltk.download('maxent_ne_chunker')\n",
        "nltk.download('words')"
      ],
      "execution_count": null,
      "outputs": [
        {
          "output_type": "stream",
          "text": [
            "[nltk_data] Downloading package maxent_ne_chunker to\n",
            "[nltk_data]     /root/nltk_data...\n",
            "[nltk_data]   Package maxent_ne_chunker is already up-to-date!\n",
            "[nltk_data] Downloading package words to /root/nltk_data...\n",
            "[nltk_data]   Unzipping corpora/words.zip.\n"
          ],
          "name": "stdout"
        },
        {
          "output_type": "execute_result",
          "data": {
            "text/plain": [
              "True"
            ]
          },
          "metadata": {
            "tags": []
          },
          "execution_count": 39
        }
      ]
    },
    {
      "cell_type": "code",
      "metadata": {
        "id": "Oj19GOO07Yam",
        "colab_type": "code",
        "colab": {
          "base_uri": "https://localhost:8080/",
          "height": 34
        },
        "outputId": "18af11c6-d504-4533-bf02-f8a52bd570d1"
      },
      "source": [
        "NE_sent=\"The US President live in the White House.\"\n",
        "NE_token=nltk.word_tokenize(NE_sent)\n",
        "NE_token"
      ],
      "execution_count": null,
      "outputs": [
        {
          "output_type": "execute_result",
          "data": {
            "text/plain": [
              "['The', 'US', 'President', 'live', 'in', 'the', 'White', 'House', '.']"
            ]
          },
          "metadata": {
            "tags": []
          },
          "execution_count": 40
        }
      ]
    },
    {
      "cell_type": "code",
      "metadata": {
        "id": "HGZju6Y18dSD",
        "colab_type": "code",
        "colab": {
          "base_uri": "https://localhost:8080/",
          "height": 168
        },
        "outputId": "24d5153a-48d2-4592-9d8c-6970902b1614"
      },
      "source": [
        "NE_tags= nltk.pos_tag(NE_token)\n",
        "NE_NER= ne_chunk(NE_tags)\n",
        "print(NE_NER)"
      ],
      "execution_count": null,
      "outputs": [
        {
          "output_type": "stream",
          "text": [
            "(S\n",
            "  The/DT\n",
            "  (ORGANIZATION US/NNP)\n",
            "  President/NNP\n",
            "  live/VBP\n",
            "  in/IN\n",
            "  the/DT\n",
            "  (FACILITY White/NNP House/NNP)\n",
            "  ./.)\n"
          ],
          "name": "stdout"
        }
      ]
    },
    {
      "cell_type": "code",
      "metadata": {
        "id": "siRp_Owq8vjv",
        "colab_type": "code",
        "colab": {}
      },
      "source": [
        ""
      ],
      "execution_count": null,
      "outputs": []
    }
  ]
}