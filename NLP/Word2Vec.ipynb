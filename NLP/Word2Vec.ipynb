{
  "nbformat": 4,
  "nbformat_minor": 0,
  "metadata": {
    "colab": {
      "name": "Word2Vec.ipynb",
      "provenance": [],
      "collapsed_sections": [],
      "authorship_tag": "ABX9TyOcLNpRmC/9dKEslWac5DFH",
      "include_colab_link": true
    },
    "kernelspec": {
      "name": "python3",
      "display_name": "Python 3"
    }
  },
  "cells": [
    {
      "cell_type": "markdown",
      "metadata": {
        "id": "view-in-github",
        "colab_type": "text"
      },
      "source": [
        "<a href=\"https://colab.research.google.com/github/Manan1811/Natural-Language-Processing/blob/master/NLP/Word2Vec.ipynb\" target=\"_parent\"><img src=\"https://colab.research.google.com/assets/colab-badge.svg\" alt=\"Open In Colab\"/></a>"
      ]
    },
    {
      "cell_type": "code",
      "metadata": {
        "id": "GwtIZV8_PlgJ",
        "colab_type": "code",
        "colab": {
          "base_uri": "https://localhost:8080/",
          "height": 302
        },
        "outputId": "8dd9098e-053c-4a37-e27b-231e4029cae6"
      },
      "source": [
        "!pip install gensim"
      ],
      "execution_count": null,
      "outputs": [
        {
          "output_type": "stream",
          "text": [
            "Requirement already satisfied: gensim in /usr/local/lib/python3.6/dist-packages (3.6.0)\n",
            "Requirement already satisfied: smart-open>=1.2.1 in /usr/local/lib/python3.6/dist-packages (from gensim) (2.1.0)\n",
            "Requirement already satisfied: numpy>=1.11.3 in /usr/local/lib/python3.6/dist-packages (from gensim) (1.18.5)\n",
            "Requirement already satisfied: scipy>=0.18.1 in /usr/local/lib/python3.6/dist-packages (from gensim) (1.4.1)\n",
            "Requirement already satisfied: six>=1.5.0 in /usr/local/lib/python3.6/dist-packages (from gensim) (1.15.0)\n",
            "Requirement already satisfied: boto3 in /usr/local/lib/python3.6/dist-packages (from smart-open>=1.2.1->gensim) (1.14.24)\n",
            "Requirement already satisfied: requests in /usr/local/lib/python3.6/dist-packages (from smart-open>=1.2.1->gensim) (2.23.0)\n",
            "Requirement already satisfied: boto in /usr/local/lib/python3.6/dist-packages (from smart-open>=1.2.1->gensim) (2.49.0)\n",
            "Requirement already satisfied: s3transfer<0.4.0,>=0.3.0 in /usr/local/lib/python3.6/dist-packages (from boto3->smart-open>=1.2.1->gensim) (0.3.3)\n",
            "Requirement already satisfied: jmespath<1.0.0,>=0.7.1 in /usr/local/lib/python3.6/dist-packages (from boto3->smart-open>=1.2.1->gensim) (0.10.0)\n",
            "Requirement already satisfied: botocore<1.18.0,>=1.17.24 in /usr/local/lib/python3.6/dist-packages (from boto3->smart-open>=1.2.1->gensim) (1.17.24)\n",
            "Requirement already satisfied: chardet<4,>=3.0.2 in /usr/local/lib/python3.6/dist-packages (from requests->smart-open>=1.2.1->gensim) (3.0.4)\n",
            "Requirement already satisfied: idna<3,>=2.5 in /usr/local/lib/python3.6/dist-packages (from requests->smart-open>=1.2.1->gensim) (2.10)\n",
            "Requirement already satisfied: certifi>=2017.4.17 in /usr/local/lib/python3.6/dist-packages (from requests->smart-open>=1.2.1->gensim) (2020.6.20)\n",
            "Requirement already satisfied: urllib3!=1.25.0,!=1.25.1,<1.26,>=1.21.1 in /usr/local/lib/python3.6/dist-packages (from requests->smart-open>=1.2.1->gensim) (1.24.3)\n",
            "Requirement already satisfied: python-dateutil<3.0.0,>=2.1 in /usr/local/lib/python3.6/dist-packages (from botocore<1.18.0,>=1.17.24->boto3->smart-open>=1.2.1->gensim) (2.8.1)\n",
            "Requirement already satisfied: docutils<0.16,>=0.10 in /usr/local/lib/python3.6/dist-packages (from botocore<1.18.0,>=1.17.24->boto3->smart-open>=1.2.1->gensim) (0.15.2)\n"
          ],
          "name": "stdout"
        }
      ]
    },
    {
      "cell_type": "code",
      "metadata": {
        "id": "Sff2j2GdPva7",
        "colab_type": "code",
        "colab": {
          "base_uri": "https://localhost:8080/",
          "height": 134
        },
        "outputId": "2274af89-8c5b-4323-ac2f-ee8877e8dc7d"
      },
      "source": [
        "import nltk\n",
        "from gensim.models import Word2Vec\n",
        "from nltk.corpus import stopwords\n",
        "import re\n",
        "from nltk.stem.porter import PorterStemmer\n",
        "from nltk.stem import WordNetLemmatizer\n",
        "nltk.download('punkt')\n",
        "nltk.download('stopwords')\n",
        "nltk.download('wordnet')\n"
      ],
      "execution_count": null,
      "outputs": [
        {
          "output_type": "stream",
          "text": [
            "[nltk_data] Downloading package punkt to /root/nltk_data...\n",
            "[nltk_data]   Unzipping tokenizers/punkt.zip.\n",
            "[nltk_data] Downloading package stopwords to /root/nltk_data...\n",
            "[nltk_data]   Unzipping corpora/stopwords.zip.\n",
            "[nltk_data] Downloading package wordnet to /root/nltk_data...\n",
            "[nltk_data]   Unzipping corpora/wordnet.zip.\n"
          ],
          "name": "stdout"
        },
        {
          "output_type": "execute_result",
          "data": {
            "text/plain": [
              "True"
            ]
          },
          "metadata": {
            "tags": []
          },
          "execution_count": 2
        }
      ]
    },
    {
      "cell_type": "code",
      "metadata": {
        "id": "kpXND32eQTo1",
        "colab_type": "code",
        "colab": {}
      },
      "source": [
        "paragraph = \"\"\"I have three visions for India. In 3000 years of our history, people from all over \n",
        "               the world have come and invaded us, captured our lands, conquered our minds. \n",
        "               From Alexander onwards, the Greeks, the Turks, the Moguls, the Portuguese, the British,\n",
        "               the French, the Dutch, all of them came and looted us, took over what was ours. \n",
        "               Yet we have not done this to any other nation. We have not conquered anyone. \n",
        "               We have not grabbed their land, their culture, \n",
        "               their history and tried to enforce our way of life on them. \n",
        "               Why? Because we respect the freedom of others.That is why my \n",
        "               first vision is that of freedom. I believe that India got its first vision of \n",
        "               this in 1857, when we started the War of Independence. It is this freedom that\n",
        "               we must protect and nurture and build on. If we are not free, no one will respect us.\n",
        "               My second vision for India’s development. For fifty years we have been a developing nation.\n",
        "               It is time we see ourselves as a developed nation. We are among the top 5 nations of the world\n",
        "               in terms of GDP. We have a 10 percent growth rate in most areas. Our poverty levels are falling.\n",
        "               Our achievements are being globally recognised today. Yet we lack the self-confidence to\n",
        "               see ourselves as a developed nation, self-reliant and self-assured. Isn’t this incorrect?\n",
        "               I have a third vision. India must stand up to the world. Because I believe that unless India \n",
        "               stands up to the world, no one will respect us. Only strength respects strength. We must be \n",
        "               strong not only as a military power but also as an economic power. Both must go hand-in-hand. \n",
        "               My good fortune was to have worked with three great minds. Dr. Vikram Sarabhai of the Dept. of \n",
        "               space, Professor Satish Dhawan, who succeeded him and Dr. Brahm Prakash, father of nuclear material.\n",
        "               I was lucky to have worked with all three of them closely and consider this the great opportunity of my life. \n",
        "               I see four milestones in my career\"\"\""
      ],
      "execution_count": null,
      "outputs": []
    },
    {
      "cell_type": "markdown",
      "metadata": {
        "id": "TmH_bzt6RJv3",
        "colab_type": "text"
      },
      "source": [
        "## Preprocess the Data"
      ]
    },
    {
      "cell_type": "code",
      "metadata": {
        "id": "nmc2xExiQYu5",
        "colab_type": "code",
        "colab": {}
      },
      "source": [
        "text = re.sub(r'\\[[0-9]*\\]',' ',paragraph) # remove 0-9\n",
        "text = re.sub(r'\\s+',' ',text) #remove spaces\n",
        "text = text.lower()\n",
        "text = re.sub(r'\\d',' ',text)\n",
        "text = re.sub(r'\\s+',' ',text)"
      ],
      "execution_count": null,
      "outputs": []
    },
    {
      "cell_type": "code",
      "metadata": {
        "id": "XnZE-CptS0kq",
        "colab_type": "code",
        "colab": {
          "base_uri": "https://localhost:8080/",
          "height": 120
        },
        "outputId": "ff37b61d-1ead-42b7-ff5f-9f2df7eb3f26"
      },
      "source": [
        "text"
      ],
      "execution_count": null,
      "outputs": [
        {
          "output_type": "execute_result",
          "data": {
            "application/vnd.google.colaboratory.intrinsic+json": {
              "type": "string"
            },
            "text/plain": [
              "'i have three visions for india. in years of our history, people from all over the world have come and invaded us, captured our lands, conquered our minds. from alexander onwards, the greeks, the turks, the moguls, the portuguese, the british, the french, the dutch, all of them came and looted us, took over what was ours. yet we have not done this to any other nation. we have not conquered anyone. we have not grabbed their land, their culture, their history and tried to enforce our way of life on them. why? because we respect the freedom of others.that is why my first vision is that of freedom. i believe that india got its first vision of this in , when we started the war of independence. it is this freedom that we must protect and nurture and build on. if we are not free, no one will respect us. my second vision for india’s development. for fifty years we have been a developing nation. it is time we see ourselves as a developed nation. we are among the top nations of the world in terms of gdp. we have a percent growth rate in most areas. our poverty levels are falling. our achievements are being globally recognised today. yet we lack the self-confidence to see ourselves as a developed nation, self-reliant and self-assured. isn’t this incorrect? i have a third vision. india must stand up to the world. because i believe that unless india stands up to the world, no one will respect us. only strength respects strength. we must be strong not only as a military power but also as an economic power. both must go hand-in-hand. my good fortune was to have worked with three great minds. dr. vikram sarabhai of the dept. of space, professor satish dhawan, who succeeded him and dr. brahm prakash, father of nuclear material. i was lucky to have worked with all three of them closely and consider this the great opportunity of my life. i see four milestones in my career'"
            ]
          },
          "metadata": {
            "tags": []
          },
          "execution_count": 13
        }
      ]
    },
    {
      "cell_type": "markdown",
      "metadata": {
        "id": "09I2as7yRRyF",
        "colab_type": "text"
      },
      "source": [
        "## Preparing the Dataset"
      ]
    },
    {
      "cell_type": "code",
      "metadata": {
        "id": "35ZH_HK4ROTv",
        "colab_type": "code",
        "colab": {
          "base_uri": "https://localhost:8080/",
          "height": 538
        },
        "outputId": "ff8b7ced-680c-459b-a3c2-dda0c100b357"
      },
      "source": [
        "sentences = nltk.sent_tokenize(text)\n",
        "sentences"
      ],
      "execution_count": null,
      "outputs": [
        {
          "output_type": "execute_result",
          "data": {
            "text/plain": [
              "['i have three visions for india.',\n",
              " 'in years of our history, people from all over the world have come and invaded us, captured our lands, conquered our minds.',\n",
              " 'from alexander onwards, the greeks, the turks, the moguls, the portuguese, the british, the french, the dutch, all of them came and looted us, took over what was ours.',\n",
              " 'yet we have not done this to any other nation.',\n",
              " 'we have not conquered anyone.',\n",
              " 'we have not grabbed their land, their culture, their history and tried to enforce our way of life on them.',\n",
              " 'why?',\n",
              " 'because we respect the freedom of others.that is why my first vision is that of freedom.',\n",
              " 'i believe that india got its first vision of this in , when we started the war of independence.',\n",
              " 'it is this freedom that we must protect and nurture and build on.',\n",
              " 'if we are not free, no one will respect us.',\n",
              " 'my second vision for india’s development.',\n",
              " 'for fifty years we have been a developing nation.',\n",
              " 'it is time we see ourselves as a developed nation.',\n",
              " 'we are among the top nations of the world in terms of gdp.',\n",
              " 'we have a percent growth rate in most areas.',\n",
              " 'our poverty levels are falling.',\n",
              " 'our achievements are being globally recognised today.',\n",
              " 'yet we lack the self-confidence to see ourselves as a developed nation, self-reliant and self-assured.',\n",
              " 'isn’t this incorrect?',\n",
              " 'i have a third vision.',\n",
              " 'india must stand up to the world.',\n",
              " 'because i believe that unless india stands up to the world, no one will respect us.',\n",
              " 'only strength respects strength.',\n",
              " 'we must be strong not only as a military power but also as an economic power.',\n",
              " 'both must go hand-in-hand.',\n",
              " 'my good fortune was to have worked with three great minds.',\n",
              " 'dr. vikram sarabhai of the dept.',\n",
              " 'of space, professor satish dhawan, who succeeded him and dr. brahm prakash, father of nuclear material.',\n",
              " 'i was lucky to have worked with all three of them closely and consider this the great opportunity of my life.',\n",
              " 'i see four milestones in my career']"
            ]
          },
          "metadata": {
            "tags": []
          },
          "execution_count": 14
        }
      ]
    },
    {
      "cell_type": "code",
      "metadata": {
        "id": "Rb6yiRBgTGEx",
        "colab_type": "code",
        "colab": {
          "base_uri": "https://localhost:8080/",
          "height": 34
        },
        "outputId": "3dfeb5ba-e6b9-414c-ac88-e4bcaec8e37b"
      },
      "source": [
        "sentences = [nltk.word_tokenize(sentence) for sentence in sentences]\n",
        "for i in range(len(sentences)):\n",
        "    sentences[i] = [word for word in sentences[i] if word not in stopwords.words('english')]\n",
        "\n",
        "len(sentences)"
      ],
      "execution_count": null,
      "outputs": [
        {
          "output_type": "execute_result",
          "data": {
            "text/plain": [
              "31"
            ]
          },
          "metadata": {
            "tags": []
          },
          "execution_count": 15
        }
      ]
    },
    {
      "cell_type": "code",
      "metadata": {
        "id": "fGFWrNSQRf3i",
        "colab_type": "code",
        "colab": {
          "base_uri": "https://localhost:8080/",
          "height": 1000
        },
        "outputId": "8aa54c1e-ca7f-4180-b36f-ccda90068402"
      },
      "source": [
        "sentences"
      ],
      "execution_count": null,
      "outputs": [
        {
          "output_type": "execute_result",
          "data": {
            "text/plain": [
              "[['three', 'visions', 'india', '.'],\n",
              " ['years',\n",
              "  'history',\n",
              "  ',',\n",
              "  'people',\n",
              "  'world',\n",
              "  'come',\n",
              "  'invaded',\n",
              "  'us',\n",
              "  ',',\n",
              "  'captured',\n",
              "  'lands',\n",
              "  ',',\n",
              "  'conquered',\n",
              "  'minds',\n",
              "  '.'],\n",
              " ['alexander',\n",
              "  'onwards',\n",
              "  ',',\n",
              "  'greeks',\n",
              "  ',',\n",
              "  'turks',\n",
              "  ',',\n",
              "  'moguls',\n",
              "  ',',\n",
              "  'portuguese',\n",
              "  ',',\n",
              "  'british',\n",
              "  ',',\n",
              "  'french',\n",
              "  ',',\n",
              "  'dutch',\n",
              "  ',',\n",
              "  'came',\n",
              "  'looted',\n",
              "  'us',\n",
              "  ',',\n",
              "  'took',\n",
              "  '.'],\n",
              " ['yet', 'done', 'nation', '.'],\n",
              " ['conquered', 'anyone', '.'],\n",
              " ['grabbed',\n",
              "  'land',\n",
              "  ',',\n",
              "  'culture',\n",
              "  ',',\n",
              "  'history',\n",
              "  'tried',\n",
              "  'enforce',\n",
              "  'way',\n",
              "  'life',\n",
              "  '.'],\n",
              " ['?'],\n",
              " ['respect', 'freedom', 'others.that', 'first', 'vision', 'freedom', '.'],\n",
              " ['believe',\n",
              "  'india',\n",
              "  'got',\n",
              "  'first',\n",
              "  'vision',\n",
              "  ',',\n",
              "  'started',\n",
              "  'war',\n",
              "  'independence',\n",
              "  '.'],\n",
              " ['freedom', 'must', 'protect', 'nurture', 'build', '.'],\n",
              " ['free', ',', 'one', 'respect', 'us', '.'],\n",
              " ['second', 'vision', 'india', '’', 'development', '.'],\n",
              " ['fifty', 'years', 'developing', 'nation', '.'],\n",
              " ['time', 'see', 'developed', 'nation', '.'],\n",
              " ['among', 'top', 'nations', 'world', 'terms', 'gdp', '.'],\n",
              " ['percent', 'growth', 'rate', 'areas', '.'],\n",
              " ['poverty', 'levels', 'falling', '.'],\n",
              " ['achievements', 'globally', 'recognised', 'today', '.'],\n",
              " ['yet',\n",
              "  'lack',\n",
              "  'self-confidence',\n",
              "  'see',\n",
              "  'developed',\n",
              "  'nation',\n",
              "  ',',\n",
              "  'self-reliant',\n",
              "  'self-assured',\n",
              "  '.'],\n",
              " ['’', 'incorrect', '?'],\n",
              " ['third', 'vision', '.'],\n",
              " ['india', 'must', 'stand', 'world', '.'],\n",
              " ['believe',\n",
              "  'unless',\n",
              "  'india',\n",
              "  'stands',\n",
              "  'world',\n",
              "  ',',\n",
              "  'one',\n",
              "  'respect',\n",
              "  'us',\n",
              "  '.'],\n",
              " ['strength', 'respects', 'strength', '.'],\n",
              " ['must', 'strong', 'military', 'power', 'also', 'economic', 'power', '.'],\n",
              " ['must', 'go', 'hand-in-hand', '.'],\n",
              " ['good', 'fortune', 'worked', 'three', 'great', 'minds', '.'],\n",
              " ['dr.', 'vikram', 'sarabhai', 'dept', '.'],\n",
              " ['space',\n",
              "  ',',\n",
              "  'professor',\n",
              "  'satish',\n",
              "  'dhawan',\n",
              "  ',',\n",
              "  'succeeded',\n",
              "  'dr.',\n",
              "  'brahm',\n",
              "  'prakash',\n",
              "  ',',\n",
              "  'father',\n",
              "  'nuclear',\n",
              "  'material',\n",
              "  '.'],\n",
              " ['lucky',\n",
              "  'worked',\n",
              "  'three',\n",
              "  'closely',\n",
              "  'consider',\n",
              "  'great',\n",
              "  'opportunity',\n",
              "  'life',\n",
              "  '.'],\n",
              " ['see', 'four', 'milestones', 'career']]"
            ]
          },
          "metadata": {
            "tags": []
          },
          "execution_count": 6
        }
      ]
    },
    {
      "cell_type": "markdown",
      "metadata": {
        "id": "NyB2hSNERnQb",
        "colab_type": "text"
      },
      "source": [
        "## Training the Model"
      ]
    },
    {
      "cell_type": "code",
      "metadata": {
        "id": "Wr61YpCgRhbC",
        "colab_type": "code",
        "colab": {}
      },
      "source": [
        "model = Word2Vec(sentences, min_count=1)\n",
        "words = model.wv.vocab"
      ],
      "execution_count": null,
      "outputs": []
    },
    {
      "cell_type": "code",
      "metadata": {
        "id": "j_l_4DuiR7Iy",
        "colab_type": "code",
        "colab": {
          "base_uri": "https://localhost:8080/",
          "height": 1000
        },
        "outputId": "ffa4f4a3-f0f3-48e7-acf0-a5a285035a51"
      },
      "source": [
        "words"
      ],
      "execution_count": null,
      "outputs": [
        {
          "output_type": "execute_result",
          "data": {
            "text/plain": [
              "{',': <gensim.models.keyedvectors.Vocab at 0x7f845d8d1588>,\n",
              " '.': <gensim.models.keyedvectors.Vocab at 0x7f845d8d14e0>,\n",
              " '?': <gensim.models.keyedvectors.Vocab at 0x7f845d94ccc0>,\n",
              " 'achievements': <gensim.models.keyedvectors.Vocab at 0x7f845dabec50>,\n",
              " 'alexander': <gensim.models.keyedvectors.Vocab at 0x7f845d8d1198>,\n",
              " 'also': <gensim.models.keyedvectors.Vocab at 0x7f845d8d6860>,\n",
              " 'among': <gensim.models.keyedvectors.Vocab at 0x7f845d94c2e8>,\n",
              " 'anyone': <gensim.models.keyedvectors.Vocab at 0x7f845d94c160>,\n",
              " 'areas': <gensim.models.keyedvectors.Vocab at 0x7f845dabe978>,\n",
              " 'believe': <gensim.models.keyedvectors.Vocab at 0x7f845d94c9e8>,\n",
              " 'brahm': <gensim.models.keyedvectors.Vocab at 0x7f845d8d6978>,\n",
              " 'british': <gensim.models.keyedvectors.Vocab at 0x7f845da19278>,\n",
              " 'build': <gensim.models.keyedvectors.Vocab at 0x7f845d94ca20>,\n",
              " 'came': <gensim.models.keyedvectors.Vocab at 0x7f845d94c860>,\n",
              " 'captured': <gensim.models.keyedvectors.Vocab at 0x7f845d8d1048>,\n",
              " 'career': <gensim.models.keyedvectors.Vocab at 0x7f845d8d6eb8>,\n",
              " 'closely': <gensim.models.keyedvectors.Vocab at 0x7f845d8d6dd8>,\n",
              " 'come': <gensim.models.keyedvectors.Vocab at 0x7f845d8d1630>,\n",
              " 'conquered': <gensim.models.keyedvectors.Vocab at 0x7f845d8d12e8>,\n",
              " 'consider': <gensim.models.keyedvectors.Vocab at 0x7f845d8d6ef0>,\n",
              " 'culture': <gensim.models.keyedvectors.Vocab at 0x7f845d94c6a0>,\n",
              " 'dept': <gensim.models.keyedvectors.Vocab at 0x7f845d8d6208>,\n",
              " 'developed': <gensim.models.keyedvectors.Vocab at 0x7f845d94c390>,\n",
              " 'developing': <gensim.models.keyedvectors.Vocab at 0x7f845d94c240>,\n",
              " 'development': <gensim.models.keyedvectors.Vocab at 0x7f845d94cf98>,\n",
              " 'dhawan': <gensim.models.keyedvectors.Vocab at 0x7f845d8d6048>,\n",
              " 'done': <gensim.models.keyedvectors.Vocab at 0x7f845d94c630>,\n",
              " 'dr.': <gensim.models.keyedvectors.Vocab at 0x7f845d8d66a0>,\n",
              " 'dutch': <gensim.models.keyedvectors.Vocab at 0x7f845da19048>,\n",
              " 'economic': <gensim.models.keyedvectors.Vocab at 0x7f845d8d67f0>,\n",
              " 'enforce': <gensim.models.keyedvectors.Vocab at 0x7f845d94cdd8>,\n",
              " 'falling': <gensim.models.keyedvectors.Vocab at 0x7f845dabe5f8>,\n",
              " 'father': <gensim.models.keyedvectors.Vocab at 0x7f845d8d6ba8>,\n",
              " 'fifty': <gensim.models.keyedvectors.Vocab at 0x7f845d94ce48>,\n",
              " 'first': <gensim.models.keyedvectors.Vocab at 0x7f845d94c898>,\n",
              " 'fortune': <gensim.models.keyedvectors.Vocab at 0x7f845d8d69e8>,\n",
              " 'four': <gensim.models.keyedvectors.Vocab at 0x7f845d8d6be0>,\n",
              " 'free': <gensim.models.keyedvectors.Vocab at 0x7f845d94cda0>,\n",
              " 'freedom': <gensim.models.keyedvectors.Vocab at 0x7f845d94ccf8>,\n",
              " 'french': <gensim.models.keyedvectors.Vocab at 0x7f845da190b8>,\n",
              " 'gdp': <gensim.models.keyedvectors.Vocab at 0x7f845dabe908>,\n",
              " 'globally': <gensim.models.keyedvectors.Vocab at 0x7f845dabec18>,\n",
              " 'go': <gensim.models.keyedvectors.Vocab at 0x7f845d8d68d0>,\n",
              " 'good': <gensim.models.keyedvectors.Vocab at 0x7f845d8d6940>,\n",
              " 'got': <gensim.models.keyedvectors.Vocab at 0x7f845d94c908>,\n",
              " 'grabbed': <gensim.models.keyedvectors.Vocab at 0x7f845d94c5c0>,\n",
              " 'great': <gensim.models.keyedvectors.Vocab at 0x7f845d8d6240>,\n",
              " 'greeks': <gensim.models.keyedvectors.Vocab at 0x7f845d8d1e10>,\n",
              " 'growth': <gensim.models.keyedvectors.Vocab at 0x7f845dabef28>,\n",
              " 'hand-in-hand': <gensim.models.keyedvectors.Vocab at 0x7f845d8d62b0>,\n",
              " 'history': <gensim.models.keyedvectors.Vocab at 0x7f845d8d15f8>,\n",
              " 'incorrect': <gensim.models.keyedvectors.Vocab at 0x7f845dabecf8>,\n",
              " 'independence': <gensim.models.keyedvectors.Vocab at 0x7f845d94cba8>,\n",
              " 'india': <gensim.models.keyedvectors.Vocab at 0x7f8486509198>,\n",
              " 'invaded': <gensim.models.keyedvectors.Vocab at 0x7f845d8d1400>,\n",
              " 'lack': <gensim.models.keyedvectors.Vocab at 0x7f845dabec88>,\n",
              " 'land': <gensim.models.keyedvectors.Vocab at 0x7f845d94c710>,\n",
              " 'lands': <gensim.models.keyedvectors.Vocab at 0x7f845d8d1eb8>,\n",
              " 'levels': <gensim.models.keyedvectors.Vocab at 0x7f845dabe630>,\n",
              " 'life': <gensim.models.keyedvectors.Vocab at 0x7f845d94cac8>,\n",
              " 'looted': <gensim.models.keyedvectors.Vocab at 0x7f845d94c438>,\n",
              " 'lucky': <gensim.models.keyedvectors.Vocab at 0x7f845d8d6d30>,\n",
              " 'material': <gensim.models.keyedvectors.Vocab at 0x7f845d8d6b70>,\n",
              " 'milestones': <gensim.models.keyedvectors.Vocab at 0x7f845d8d6cc0>,\n",
              " 'military': <gensim.models.keyedvectors.Vocab at 0x7f845d8d6668>,\n",
              " 'minds': <gensim.models.keyedvectors.Vocab at 0x7f845d8d1f98>,\n",
              " 'moguls': <gensim.models.keyedvectors.Vocab at 0x7f845da19fd0>,\n",
              " 'must': <gensim.models.keyedvectors.Vocab at 0x7f845d94cbe0>,\n",
              " 'nation': <gensim.models.keyedvectors.Vocab at 0x7f845d94c4a8>,\n",
              " 'nations': <gensim.models.keyedvectors.Vocab at 0x7f845dabe860>,\n",
              " 'nuclear': <gensim.models.keyedvectors.Vocab at 0x7f845d8d6828>,\n",
              " 'nurture': <gensim.models.keyedvectors.Vocab at 0x7f845d94c400>,\n",
              " 'one': <gensim.models.keyedvectors.Vocab at 0x7f845d94ceb8>,\n",
              " 'onwards': <gensim.models.keyedvectors.Vocab at 0x7f845d8d1c50>,\n",
              " 'opportunity': <gensim.models.keyedvectors.Vocab at 0x7f845d8d6ac8>,\n",
              " 'others.that': <gensim.models.keyedvectors.Vocab at 0x7f845d94ce10>,\n",
              " 'people': <gensim.models.keyedvectors.Vocab at 0x7f845d8d1b38>,\n",
              " 'percent': <gensim.models.keyedvectors.Vocab at 0x7f845dabe6a0>,\n",
              " 'portuguese': <gensim.models.keyedvectors.Vocab at 0x7f845da19320>,\n",
              " 'poverty': <gensim.models.keyedvectors.Vocab at 0x7f845dabe588>,\n",
              " 'power': <gensim.models.keyedvectors.Vocab at 0x7f845d8d6128>,\n",
              " 'prakash': <gensim.models.keyedvectors.Vocab at 0x7f845d8d6c50>,\n",
              " 'professor': <gensim.models.keyedvectors.Vocab at 0x7f845d8d6a90>,\n",
              " 'protect': <gensim.models.keyedvectors.Vocab at 0x7f845d94cc50>,\n",
              " 'rate': <gensim.models.keyedvectors.Vocab at 0x7f845dabe4e0>,\n",
              " 'recognised': <gensim.models.keyedvectors.Vocab at 0x7f845dabed68>,\n",
              " 'respect': <gensim.models.keyedvectors.Vocab at 0x7f845d94c780>,\n",
              " 'respects': <gensim.models.keyedvectors.Vocab at 0x7f845d8d60f0>,\n",
              " 'sarabhai': <gensim.models.keyedvectors.Vocab at 0x7f845d8d6b00>,\n",
              " 'satish': <gensim.models.keyedvectors.Vocab at 0x7f845d8d6a58>,\n",
              " 'second': <gensim.models.keyedvectors.Vocab at 0x7f845d94c2b0>,\n",
              " 'see': <gensim.models.keyedvectors.Vocab at 0x7f845d94c7f0>,\n",
              " 'self-assured': <gensim.models.keyedvectors.Vocab at 0x7f845dabecc0>,\n",
              " 'self-confidence': <gensim.models.keyedvectors.Vocab at 0x7f845dabe7b8>,\n",
              " 'self-reliant': <gensim.models.keyedvectors.Vocab at 0x7f845dabef60>,\n",
              " 'space': <gensim.models.keyedvectors.Vocab at 0x7f845d8d6b38>,\n",
              " 'stand': <gensim.models.keyedvectors.Vocab at 0x7f845dabe518>,\n",
              " 'stands': <gensim.models.keyedvectors.Vocab at 0x7f845dabe5c0>,\n",
              " 'started': <gensim.models.keyedvectors.Vocab at 0x7f845d94c978>,\n",
              " 'strength': <gensim.models.keyedvectors.Vocab at 0x7f845dabe898>,\n",
              " 'strong': <gensim.models.keyedvectors.Vocab at 0x7f845d8d6908>,\n",
              " 'succeeded': <gensim.models.keyedvectors.Vocab at 0x7f845d8d6780>,\n",
              " 'terms': <gensim.models.keyedvectors.Vocab at 0x7f845dabeba8>,\n",
              " 'third': <gensim.models.keyedvectors.Vocab at 0x7f845dabe748>,\n",
              " 'three': <gensim.models.keyedvectors.Vocab at 0x7f845d8d3ba8>,\n",
              " 'time': <gensim.models.keyedvectors.Vocab at 0x7f845d94cf28>,\n",
              " 'today': <gensim.models.keyedvectors.Vocab at 0x7f845dabe550>,\n",
              " 'took': <gensim.models.keyedvectors.Vocab at 0x7f845d94c518>,\n",
              " 'top': <gensim.models.keyedvectors.Vocab at 0x7f845d94cc18>,\n",
              " 'tried': <gensim.models.keyedvectors.Vocab at 0x7f845d94cd30>,\n",
              " 'turks': <gensim.models.keyedvectors.Vocab at 0x7f845d8d16d8>,\n",
              " 'unless': <gensim.models.keyedvectors.Vocab at 0x7f845dabe470>,\n",
              " 'us': <gensim.models.keyedvectors.Vocab at 0x7f845d8d1438>,\n",
              " 'vikram': <gensim.models.keyedvectors.Vocab at 0x7f845d8d6a20>,\n",
              " 'vision': <gensim.models.keyedvectors.Vocab at 0x7f845d94cfd0>,\n",
              " 'visions': <gensim.models.keyedvectors.Vocab at 0x7f8486509128>,\n",
              " 'war': <gensim.models.keyedvectors.Vocab at 0x7f845d94ca58>,\n",
              " 'way': <gensim.models.keyedvectors.Vocab at 0x7f845d94c080>,\n",
              " 'worked': <gensim.models.keyedvectors.Vocab at 0x7f845d8d69b0>,\n",
              " 'world': <gensim.models.keyedvectors.Vocab at 0x7f845d8d19b0>,\n",
              " 'years': <gensim.models.keyedvectors.Vocab at 0x7f845d8d1978>,\n",
              " 'yet': <gensim.models.keyedvectors.Vocab at 0x7f845d94c3c8>,\n",
              " '’': <gensim.models.keyedvectors.Vocab at 0x7f845d94cef0>}"
            ]
          },
          "metadata": {
            "tags": []
          },
          "execution_count": 9
        }
      ]
    },
    {
      "cell_type": "markdown",
      "metadata": {
        "id": "EpBMJh7iRxb9",
        "colab_type": "text"
      },
      "source": [
        "Find the Word vectors"
      ]
    },
    {
      "cell_type": "code",
      "metadata": {
        "id": "AKtT6ttNRu9b",
        "colab_type": "code",
        "colab": {}
      },
      "source": [
        "vector = model.wv['war']"
      ],
      "execution_count": null,
      "outputs": []
    },
    {
      "cell_type": "code",
      "metadata": {
        "id": "rIY8TnR1dSRO",
        "colab_type": "code",
        "colab": {
          "base_uri": "https://localhost:8080/",
          "height": 34
        },
        "outputId": "9f037075-52db-45db-ef54-4a84f55a3f97"
      },
      "source": [
        "vector.shape"
      ],
      "execution_count": null,
      "outputs": [
        {
          "output_type": "execute_result",
          "data": {
            "text/plain": [
              "(100,)"
            ]
          },
          "metadata": {
            "tags": []
          },
          "execution_count": 16
        }
      ]
    },
    {
      "cell_type": "code",
      "metadata": {
        "id": "i4PVqjnUdWkm",
        "colab_type": "code",
        "colab": {
          "base_uri": "https://localhost:8080/",
          "height": 34
        },
        "outputId": "b31f0e45-31a4-486e-ac83-ac0439f0a454"
      },
      "source": [
        "vector.ndim"
      ],
      "execution_count": null,
      "outputs": [
        {
          "output_type": "execute_result",
          "data": {
            "text/plain": [
              "1"
            ]
          },
          "metadata": {
            "tags": []
          },
          "execution_count": 17
        }
      ]
    },
    {
      "cell_type": "code",
      "metadata": {
        "id": "ZiL60HSAR3TQ",
        "colab_type": "code",
        "colab": {
          "base_uri": "https://localhost:8080/",
          "height": 454
        },
        "outputId": "172cc594-5b49-41ea-e2a8-4f086f070ac5"
      },
      "source": [
        "vector"
      ],
      "execution_count": null,
      "outputs": [
        {
          "output_type": "execute_result",
          "data": {
            "text/plain": [
              "array([-2.0162917e-03, -3.0033754e-03,  1.0152656e-03, -4.6313871e-03,\n",
              "        5.9785246e-04,  1.8475616e-03,  4.3639224e-03, -1.6483012e-06,\n",
              "       -1.9982257e-03,  4.3435413e-03,  4.6712710e-03,  2.2333723e-03,\n",
              "       -4.8625371e-03, -1.0606759e-03, -1.6693543e-03,  2.3123587e-03,\n",
              "        1.1495088e-03,  4.0711407e-03, -4.5515974e-03,  3.4102781e-03,\n",
              "       -1.7442240e-03,  5.4020213e-04, -2.1853549e-03, -2.3630797e-03,\n",
              "        1.3976977e-03,  2.5956947e-03, -1.0714710e-03,  3.5386276e-03,\n",
              "       -3.1935463e-03, -3.8242904e-03, -6.1832840e-04,  1.9474432e-03,\n",
              "        2.5307012e-03,  3.2594702e-03, -3.3095584e-03,  3.9901957e-03,\n",
              "       -2.3796172e-03, -4.8213932e-03,  4.5874440e-03,  6.1407889e-04,\n",
              "        3.4206787e-03,  4.5063917e-04,  2.1473437e-03, -4.8767305e-03,\n",
              "       -1.1708947e-03,  1.7754205e-03,  8.3457206e-05,  1.3562496e-03,\n",
              "       -2.9479718e-04,  4.9718409e-03,  2.8517519e-03,  2.9970896e-03,\n",
              "        4.2738598e-03, -3.5248096e-03,  4.2184084e-03, -4.1077444e-03,\n",
              "        3.5558522e-03,  1.8432462e-03,  3.2390242e-03,  8.2142721e-04,\n",
              "        4.5886524e-03,  4.3169064e-03,  2.1721798e-04,  1.4165054e-04,\n",
              "        3.1829935e-03, -1.5363595e-03, -4.0174620e-03, -5.4271688e-04,\n",
              "        3.2734168e-03,  3.5879458e-03, -5.8956869e-04,  2.9902013e-03,\n",
              "        4.7825715e-03,  2.8054285e-04, -1.2773166e-03, -3.2595515e-03,\n",
              "       -1.7179224e-03,  2.8308670e-03,  4.0403586e-03,  4.5372630e-03,\n",
              "        2.3231932e-03,  1.1032494e-03,  4.5214943e-03, -1.3494407e-03,\n",
              "       -1.5993745e-03, -4.0384440e-04, -6.6175900e-04,  3.7905457e-03,\n",
              "       -1.7200821e-03,  2.2558048e-03,  4.5142318e-03, -7.0141017e-04,\n",
              "        4.8790476e-03,  3.4954755e-03,  4.1495571e-03, -1.3273916e-03,\n",
              "        2.1254858e-03, -3.8083601e-03,  1.8674796e-03,  3.9374633e-03],\n",
              "      dtype=float32)"
            ]
          },
          "metadata": {
            "tags": []
          },
          "execution_count": 10
        }
      ]
    },
    {
      "cell_type": "markdown",
      "metadata": {
        "id": "Emlxffw9SE0W",
        "colab_type": "text"
      },
      "source": [
        "## Most similar words"
      ]
    },
    {
      "cell_type": "code",
      "metadata": {
        "id": "HuCZylYYR6OM",
        "colab_type": "code",
        "colab": {
          "base_uri": "https://localhost:8080/",
          "height": 70
        },
        "outputId": "cd2eaa2c-5f4d-4023-eeca-f45eeeadcd30"
      },
      "source": [
        "similar = model.wv.most_similar('vikram')"
      ],
      "execution_count": null,
      "outputs": [
        {
          "output_type": "stream",
          "text": [
            "/usr/local/lib/python3.6/dist-packages/gensim/matutils.py:737: FutureWarning: Conversion of the second argument of issubdtype from `int` to `np.signedinteger` is deprecated. In future, it will be treated as `np.int64 == np.dtype(int).type`.\n",
            "  if np.issubdtype(vec.dtype, np.int):\n"
          ],
          "name": "stderr"
        }
      ]
    },
    {
      "cell_type": "code",
      "metadata": {
        "id": "lDC_e3v-SJh0",
        "colab_type": "code",
        "colab": {
          "base_uri": "https://localhost:8080/",
          "height": 185
        },
        "outputId": "fbbaf8f1-316a-4025-b6c5-4689233a1848"
      },
      "source": [
        "similar"
      ],
      "execution_count": null,
      "outputs": [
        {
          "output_type": "execute_result",
          "data": {
            "text/plain": [
              "[('india', 0.28457722067832947),\n",
              " ('.', 0.23126046359539032),\n",
              " ('see', 0.21923649311065674),\n",
              " ('military', 0.17927125096321106),\n",
              " ('first', 0.1729651242494583),\n",
              " ('development', 0.17274770140647888),\n",
              " ('tried', 0.16385601460933685),\n",
              " ('strong', 0.1600397527217865),\n",
              " ('free', 0.15373006463050842),\n",
              " ('also', 0.15221238136291504)]"
            ]
          },
          "metadata": {
            "tags": []
          },
          "execution_count": 12
        }
      ]
    },
    {
      "cell_type": "code",
      "metadata": {
        "id": "E2g3nLlISLrZ",
        "colab_type": "code",
        "colab": {}
      },
      "source": [
        ""
      ],
      "execution_count": null,
      "outputs": []
    }
  ]
}