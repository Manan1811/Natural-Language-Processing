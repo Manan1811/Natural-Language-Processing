{
  "nbformat": 4,
  "nbformat_minor": 0,
  "metadata": {
    "colab": {
      "name": "One Hot Representation.ipynb",
      "provenance": [],
      "collapsed_sections": [],
      "authorship_tag": "ABX9TyOvnEoq3RzKYLOap+bZ1Eyr",
      "include_colab_link": true
    },
    "kernelspec": {
      "name": "python3",
      "display_name": "Python 3"
    }
  },
  "cells": [
    {
      "cell_type": "markdown",
      "metadata": {
        "id": "view-in-github",
        "colab_type": "text"
      },
      "source": [
        "<a href=\"https://colab.research.google.com/github/Manan1811/Natural-Language-Processing/blob/master/NLP/One_Hot_Representation.ipynb\" target=\"_parent\"><img src=\"https://colab.research.google.com/assets/colab-badge.svg\" alt=\"Open In Colab\"/></a>"
      ]
    },
    {
      "cell_type": "code",
      "metadata": {
        "id": "hW780ahUhXr5",
        "colab_type": "code",
        "colab": {}
      },
      "source": [
        "from keras.preprocessing.text import one_hot\n",
        "\n",
        "docs= ['glass of orange Juice',\n",
        "       'bottle of mango juice',\n",
        "       'glass of mango shake',\n",
        "       'drink bottle of banana shake',\n",
        "       'I want a glass of cold water',\n",
        "       'The king and the queen', \n",
        "       'man and woman']\n"
      ],
      "execution_count": null,
      "outputs": []
    },
    {
      "cell_type": "code",
      "metadata": {
        "id": "S3WWs7d8h7-T",
        "colab_type": "code",
        "colab": {
          "base_uri": "https://localhost:8080/",
          "height": 54
        },
        "outputId": "76b22602-01b1-4328-9f96-6a541d453f78"
      },
      "source": [
        "vocab_size=10000\n",
        "encoded_docs= [one_hot(d, vocab_size) for d in docs]\n",
        "print(encoded_docs)"
      ],
      "execution_count": null,
      "outputs": [
        {
          "output_type": "stream",
          "text": [
            "[[8921, 8205, 7304, 769], [6453, 8205, 1384, 769], [8921, 8205, 1384, 3353], [7042, 6453, 8205, 7293, 3353], [4873, 5138, 1351, 8921, 8205, 5277, 2675], [8585, 7056, 8439, 8585, 2233], [9083, 8439, 4345]]\n"
          ],
          "name": "stdout"
        }
      ]
    },
    {
      "cell_type": "code",
      "metadata": {
        "id": "0AlZGi5yiPTE",
        "colab_type": "code",
        "colab": {}
      },
      "source": [
        ""
      ],
      "execution_count": null,
      "outputs": []
    }
  ]
}